{
 "cells": [
  {
   "cell_type": "code",
   "execution_count": 3,
   "metadata": {},
   "outputs": [
    {
     "name": "stdout",
     "output_type": "stream",
     "text": [
      "Using device: cuda\n"
     ]
    }
   ],
   "source": [
    "import os\n",
    "import torch\n",
    "from torch.utils.data import Dataset, DataLoader\n",
    "from torch.nn.utils.rnn import pad_sequence\n",
    "from sklearn.preprocessing import LabelEncoder\n",
    "import torch.nn as nn\n",
    "\n",
    "# Check if GPU is available and set device accordingly\n",
    "device = torch.device(\"cuda\" if torch.cuda.is_available() else \"cpu\")\n",
    "print(f\"Using device: {device}\")\n",
    "\n",
    "# Paths to directories containing processed sequences\n",
    "data_root = '/workspace/sequence2/'\n",
    "class_folders = ['Adware', 'Benign', 'Bankingware', 'Riskware', 'Smsware']\n"
   ]
  },
  {
   "cell_type": "code",
   "execution_count": 4,
   "metadata": {},
   "outputs": [],
   "source": [
    "# Label encoding for class names\n",
    "label_encoder = LabelEncoder()\n",
    "label_encoder.fit(class_folders)  # Assigns a unique integer to each class\n",
    "\n",
    "# Define padding index based on the number of unique syscalls\n",
    "padding_index = len(label_encoder.classes_)\n",
    "\n",
    "# Limit maximum sequence length to prevent memory overflow\n",
    "MAX_SEQUENCE_LENGTH = 500  # Adjust as needed based on available memory\n",
    "\n",
    "class SyscallDataset(Dataset):\n",
    "    def __init__(self, data_root, class_folders, label_encoder, max_seq_length=MAX_SEQUENCE_LENGTH):\n",
    "        self.data = []\n",
    "        self.label_encoder = label_encoder\n",
    "        self.max_seq_length = max_seq_length\n",
    "\n",
    "        # Load sequences and assign labels based on folder name\n",
    "        for folder in class_folders:\n",
    "            folder_path = os.path.join(data_root, folder)\n",
    "            label = label_encoder.transform([folder])[0]  # Get the encoded label for the class\n",
    "\n",
    "            for filename in os.listdir(folder_path):\n",
    "                if filename.endswith('_sequence.txt'):\n",
    "                    file_path = os.path.join(folder_path, filename)\n",
    "                    with open(file_path, 'r') as f:\n",
    "                        # Load the syscall sequence and convert it to a list of integers\n",
    "                        sequence = [int(index) for index in f.read().strip().split()]\n",
    "                        # Truncate the sequence to the maximum length\n",
    "                        sequence = sequence[:self.max_seq_length]\n",
    "                        # Ensure all indices are within valid bounds, replacing out-of-bounds indices with padding index\n",
    "                        sequence = [idx if idx < padding_index else padding_index for idx in sequence]\n",
    "                        self.data.append((sequence, label))\n",
    "\n",
    "    def __len__(self):\n",
    "        return len(self.data)\n",
    "\n",
    "    def __getitem__(self, idx):\n",
    "        sequence, label = self.data[idx]\n",
    "        return torch.tensor(sequence, dtype=torch.long), torch.tensor(label, dtype=torch.long)\n"
   ]
  },
  {
   "cell_type": "code",
   "execution_count": 5,
   "metadata": {},
   "outputs": [
    {
     "name": "stdout",
     "output_type": "stream",
     "text": [
      "DataLoader initialized with padding.\n"
     ]
    }
   ],
   "source": [
    "# Initialize dataset and dataloader with smaller batch size\n",
    "dataset = SyscallDataset(data_root, class_folders, label_encoder)\n",
    "dataloader = DataLoader(dataset, batch_size=8, shuffle=True, collate_fn=lambda x: collate_fn(x))  # Use smaller batch size\n",
    "\n",
    "# Padding function to ensure batch sequences have uniform length\n",
    "def collate_fn(batch):\n",
    "    sequences, labels = zip(*batch)\n",
    "    padded_sequences = pad_sequence(sequences, batch_first=True, padding_value=padding_index)\n",
    "    labels = torch.tensor(labels)\n",
    "    return padded_sequences.to(device), labels.to(device)\n",
    "\n",
    "print(\"DataLoader initialized with padding.\")\n"
   ]
  },
  {
   "cell_type": "code",
   "execution_count": 6,
   "metadata": {},
   "outputs": [
    {
     "name": "stdout",
     "output_type": "stream",
     "text": [
      "Model initialized and moved to device.\n"
     ]
    }
   ],
   "source": [
    "class SyscallLSTMClassifier(nn.Module):\n",
    "    def __init__(self, num_syscalls, embedding_dim, hidden_dim, output_dim):\n",
    "        super(SyscallLSTMClassifier, self).__init__()\n",
    "        # Use an embedding layer to represent syscalls as dense vectors, with padding_idx set to padding_index\n",
    "        self.embedding = nn.Embedding(num_syscalls + 1, embedding_dim, padding_idx=padding_index)\n",
    "        self.lstm = nn.LSTM(embedding_dim, hidden_dim, batch_first=True)\n",
    "        self.fc = nn.Linear(hidden_dim, output_dim)\n",
    "    \n",
    "    def forward(self, x):\n",
    "        embedded = self.embedding(x)  # Apply embedding layer to input\n",
    "        lstm_out, _ = self.lstm(embedded)\n",
    "        output = self.fc(lstm_out[:, -1, :])  # Use the last hidden state for classification\n",
    "        return output\n",
    "\n",
    "# Hyperparameters\n",
    "embedding_dim = 128\n",
    "hidden_dim = 64\n",
    "output_dim = len(class_folders)  # Number of classes\n",
    "num_syscalls = padding_index  # Total number of unique syscalls\n",
    "\n",
    "# Initialize model, loss function, and optimizer\n",
    "model = SyscallLSTMClassifier(num_syscalls, embedding_dim, hidden_dim, output_dim).to(device)\n",
    "criterion = nn.CrossEntropyLoss()\n",
    "optimizer = torch.optim.Adam(model.parameters(), lr=0.001)\n",
    "\n",
    "print(\"Model initialized and moved to device.\")\n"
   ]
  },
  {
   "cell_type": "code",
   "execution_count": 7,
   "metadata": {},
   "outputs": [
    {
     "name": "stdout",
     "output_type": "stream",
     "text": [
      "Epoch 1/100, Loss: 1.5873\n",
      "Epoch 2/100, Loss: 1.5713\n",
      "Epoch 3/100, Loss: 1.5638\n",
      "Epoch 4/100, Loss: 1.5591\n",
      "Epoch 5/100, Loss: 1.5523\n",
      "Epoch 6/100, Loss: 1.5168\n",
      "Epoch 7/100, Loss: 1.5152\n",
      "Epoch 8/100, Loss: 1.4879\n",
      "Epoch 9/100, Loss: 1.4673\n",
      "Epoch 10/100, Loss: 1.4335\n",
      "Epoch 11/100, Loss: 1.4427\n",
      "Epoch 12/100, Loss: 1.4173\n",
      "Epoch 13/100, Loss: 1.4034\n",
      "Epoch 14/100, Loss: 1.4528\n",
      "Epoch 15/100, Loss: 1.4662\n",
      "Epoch 16/100, Loss: 1.4109\n",
      "Epoch 17/100, Loss: 1.3869\n",
      "Epoch 18/100, Loss: 1.3775\n",
      "Epoch 19/100, Loss: 1.3678\n",
      "Epoch 20/100, Loss: 1.3639\n",
      "Epoch 21/100, Loss: 1.3659\n",
      "Epoch 22/100, Loss: 1.3523\n",
      "Epoch 23/100, Loss: 1.3691\n",
      "Epoch 24/100, Loss: 1.3550\n",
      "Epoch 25/100, Loss: 1.3486\n",
      "Epoch 26/100, Loss: 1.3428\n",
      "Epoch 27/100, Loss: 1.4050\n",
      "Epoch 28/100, Loss: 1.4253\n",
      "Epoch 29/100, Loss: 1.3788\n",
      "Epoch 30/100, Loss: 1.3426\n",
      "Epoch 31/100, Loss: 1.3390\n",
      "Epoch 32/100, Loss: 1.3313\n",
      "Epoch 33/100, Loss: 1.3510\n",
      "Epoch 34/100, Loss: 1.3296\n",
      "Epoch 35/100, Loss: 1.3168\n",
      "Epoch 36/100, Loss: 1.3240\n",
      "Epoch 37/100, Loss: 1.3671\n",
      "Epoch 38/100, Loss: 1.3175\n",
      "Epoch 39/100, Loss: 1.3158\n",
      "Epoch 40/100, Loss: 1.3260\n",
      "Epoch 41/100, Loss: 1.3195\n",
      "Epoch 42/100, Loss: 1.3126\n",
      "Epoch 43/100, Loss: 1.3113\n",
      "Epoch 44/100, Loss: 1.3092\n",
      "Epoch 45/100, Loss: 1.3103\n",
      "Epoch 46/100, Loss: 1.3030\n",
      "Epoch 47/100, Loss: 1.3130\n",
      "Epoch 48/100, Loss: 1.3017\n",
      "Epoch 49/100, Loss: 1.3031\n",
      "Epoch 50/100, Loss: 1.2985\n",
      "Epoch 51/100, Loss: 1.2982\n",
      "Epoch 52/100, Loss: 1.2926\n",
      "Epoch 53/100, Loss: 1.2987\n",
      "Epoch 54/100, Loss: 1.3166\n",
      "Epoch 55/100, Loss: 1.2931\n",
      "Epoch 56/100, Loss: 1.3050\n",
      "Epoch 57/100, Loss: 1.3005\n",
      "Epoch 58/100, Loss: 1.2990\n",
      "Epoch 59/100, Loss: 1.2941\n",
      "Epoch 60/100, Loss: 1.2890\n",
      "Epoch 61/100, Loss: 1.3028\n",
      "Epoch 62/100, Loss: 1.2923\n",
      "Epoch 63/100, Loss: 1.2947\n",
      "Epoch 64/100, Loss: 1.2813\n",
      "Epoch 65/100, Loss: 1.2988\n",
      "Epoch 66/100, Loss: 1.2888\n",
      "Epoch 67/100, Loss: 1.2952\n",
      "Epoch 68/100, Loss: 1.2824\n",
      "Epoch 69/100, Loss: 1.3205\n",
      "Epoch 70/100, Loss: 1.3228\n",
      "Epoch 71/100, Loss: 1.2877\n",
      "Epoch 72/100, Loss: 1.2805\n",
      "Epoch 73/100, Loss: 1.2714\n",
      "Epoch 74/100, Loss: 1.2858\n",
      "Epoch 75/100, Loss: 1.2850\n",
      "Epoch 76/100, Loss: 1.3236\n",
      "Epoch 77/100, Loss: 1.3121\n",
      "Epoch 78/100, Loss: 1.3144\n",
      "Epoch 79/100, Loss: 1.2955\n",
      "Epoch 80/100, Loss: 1.2799\n",
      "Epoch 81/100, Loss: 1.2767\n",
      "Epoch 82/100, Loss: 1.2755\n",
      "Epoch 83/100, Loss: 1.2718\n",
      "Epoch 84/100, Loss: 1.2846\n",
      "Epoch 85/100, Loss: 1.3806\n",
      "Epoch 86/100, Loss: 1.5537\n",
      "Epoch 87/100, Loss: 1.5156\n",
      "Epoch 88/100, Loss: 1.5030\n",
      "Epoch 89/100, Loss: 1.4905\n",
      "Epoch 90/100, Loss: 1.4832\n",
      "Epoch 91/100, Loss: 1.4776\n",
      "Epoch 92/100, Loss: 1.4680\n",
      "Epoch 93/100, Loss: 1.4606\n",
      "Epoch 94/100, Loss: 1.4567\n",
      "Epoch 95/100, Loss: 1.4499\n",
      "Epoch 96/100, Loss: 1.4745\n",
      "Epoch 97/100, Loss: 1.4653\n",
      "Epoch 98/100, Loss: 1.5029\n",
      "Epoch 99/100, Loss: 1.4933\n",
      "Epoch 100/100, Loss: 1.5951\n",
      "Training complete.\n"
     ]
    }
   ],
   "source": [
    "num_epochs = 100\n",
    "\n",
    "for epoch in range(num_epochs):\n",
    "    model.train()\n",
    "    total_loss = 0\n",
    "    for sequences, labels in dataloader:\n",
    "        optimizer.zero_grad()\n",
    "        outputs = model(sequences)\n",
    "        loss = criterion(outputs, labels)\n",
    "        loss.backward()\n",
    "        optimizer.step()\n",
    "        total_loss += loss.item()\n",
    "    \n",
    "    print(f\"Epoch {epoch + 1}/{num_epochs}, Loss: {total_loss / len(dataloader):.4f}\")\n",
    "\n",
    "print(\"Training complete.\")\n"
   ]
  },
  {
   "cell_type": "code",
   "execution_count": 11,
   "metadata": {},
   "outputs": [],
   "source": [
    "from sklearn.metrics import classification_report, accuracy_score\n",
    "import numpy as np\n"
   ]
  },
  {
   "cell_type": "code",
   "execution_count": 12,
   "metadata": {},
   "outputs": [],
   "source": [
    "def evaluate(model, dataloader, label_encoder):\n",
    "    model.eval()\n",
    "    all_labels = []\n",
    "    all_predictions = []\n",
    "    \n",
    "    with torch.no_grad():\n",
    "        for sequences, labels in dataloader:\n",
    "            outputs = model(sequences)\n",
    "            _, predicted = torch.max(outputs, 1)\n",
    "            all_labels.extend(labels.cpu().numpy())\n",
    "            all_predictions.extend(predicted.cpu().numpy())\n",
    "    \n",
    "    # Generate metrics\n",
    "    accuracy = accuracy_score(all_labels, all_predictions)\n",
    "    report = classification_report(\n",
    "        all_labels,\n",
    "        all_predictions,\n",
    "        target_names=label_encoder.classes_,\n",
    "        digits=4\n",
    "    )\n",
    "    \n",
    "    print(f'Overall Accuracy: {accuracy * 100:.2f}%')\n",
    "    print(\"Classification Report:\\n\", report)\n"
   ]
  },
  {
   "cell_type": "code",
   "execution_count": 13,
   "metadata": {},
   "outputs": [
    {
     "name": "stdout",
     "output_type": "stream",
     "text": [
      "Overall Accuracy: 24.36%\n",
      "Classification Report:\n",
      "               precision    recall  f1-score   support\n",
      "\n",
      "      Adware     0.1876    0.1081    0.1371      1175\n",
      " Bankingware     0.2238    0.4365    0.2959      1205\n",
      "      Benign     0.7500    0.0280    0.0541      1070\n",
      "    Riskware     0.4821    0.1526    0.2318      1147\n",
      "     Smsware     0.2343    0.4593    0.3103      1215\n",
      "\n",
      "    accuracy                         0.2436      5812\n",
      "   macro avg     0.3756    0.2369    0.2058      5812\n",
      "weighted avg     0.3665    0.2436    0.2096      5812\n",
      "\n"
     ]
    }
   ],
   "source": [
    "# Run evaluation and print per-label metrics\n",
    "evaluate(model, dataloader, label_encoder)\n"
   ]
  }
 ],
 "metadata": {
  "kernelspec": {
   "display_name": "py_3.10",
   "language": "python",
   "name": "python3"
  },
  "language_info": {
   "codemirror_mode": {
    "name": "ipython",
    "version": 3
   },
   "file_extension": ".py",
   "mimetype": "text/x-python",
   "name": "python",
   "nbconvert_exporter": "python",
   "pygments_lexer": "ipython3",
   "version": "3.10.15"
  }
 },
 "nbformat": 4,
 "nbformat_minor": 2
}
