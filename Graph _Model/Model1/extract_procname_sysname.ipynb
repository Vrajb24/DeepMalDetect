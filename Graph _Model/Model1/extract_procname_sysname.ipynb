{
 "cells": [
  {
   "cell_type": "markdown",
   "metadata": {},
   "source": [
    "## Obtain unique sysnames and procnames"
   ]
  },
  {
   "cell_type": "code",
   "execution_count": null,
   "metadata": {},
   "outputs": [],
   "source": [
    "import os\n",
    "import json\n",
    "\n",
    "# Define the root directory and category folders\n",
    "root_dir = '/home/belief/Desktop/MalwareDetection/JSONs/Capturing-logs'\n",
    "categories = [\"AdwareJson\", \"BankingJson\", \"BenignJson\", \"RiskWareJson\", \"SmsJson\"]\n",
    "\n",
    "# Initialize sets to store unique sysname and procname values\n",
    "unique_sysnames = set()\n",
    "unique_procnames = set()\n",
    "\n",
    "# Function to parse JSON and collect sysname and procname values\n",
    "def collect_unique_sysname_procname(file_path):\n",
    "    try:\n",
    "        with open(file_path) as f:\n",
    "            data = json.load(f)\n",
    "\n",
    "        # Go through each syscall and collect sysname and procname\n",
    "        syscalls = data['behaviors']['dynamic']['host']\n",
    "        for syscall in syscalls:\n",
    "            syscall_info = syscall['low'][0]\n",
    "\n",
    "            # Collect unique sysname\n",
    "            if 'sysname' in syscall_info:\n",
    "                unique_sysnames.add(syscall_info['sysname'])\n",
    "\n",
    "            # Collect unique procname if available\n",
    "            procname = syscall.get('procname')\n",
    "            if procname:\n",
    "                unique_procnames.add(procname)\n",
    "\n",
    "    except json.JSONDecodeError:\n",
    "        print(f\"Skipping file due to JSONDecodeError: {file_path}\")\n",
    "    except Exception as e:\n",
    "        print(f\"Error processing file {file_path}: {e}\")\n",
    "\n",
    "# Iterate through each category folder and JSON files within\n",
    "for category in categories:\n",
    "    category_dir = os.path.join(root_dir, category)\n",
    "    for file_name in os.listdir(category_dir):\n",
    "        if file_name.endswith('.json'):\n",
    "            file_path = os.path.join(category_dir, file_name)\n",
    "            collect_unique_sysname_procname(file_path)\n",
    "\n",
    "# Save the unique sets to a file\n",
    "output_path = os.path.join(root_dir, \"unique_sysnames_procnames.txt\")\n",
    "with open(output_path, 'w') as f:\n",
    "    f.write(\"Unique Sysnames:\\n\")\n",
    "    f.write(\"\\n\".join(sorted(unique_sysnames)) + \"\\n\\n\")  # Sort for readability\n",
    "    f.write(\"Unique Procnames:\\n\")\n",
    "    f.write(\"\\n\".join(sorted(unique_procnames)) + \"\\n\")\n",
    "\n",
    "print(f\"Unique sysnames and procnames saved to {output_path}\")\n"
   ]
  }
 ],
 "metadata": {
  "kernelspec": {
   "display_name": "py_3.10",
   "language": "python",
   "name": "python3"
  },
  "language_info": {
   "codemirror_mode": {
    "name": "ipython",
    "version": 3
   },
   "file_extension": ".py",
   "mimetype": "text/x-python",
   "name": "python",
   "nbconvert_exporter": "python",
   "pygments_lexer": "ipython3",
   "version": "3.10.15"
  }
 },
 "nbformat": 4,
 "nbformat_minor": 2
}
