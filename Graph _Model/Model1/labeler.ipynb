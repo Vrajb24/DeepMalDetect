{
 "cells": [
  {
   "cell_type": "markdown",
   "metadata": {},
   "source": [
    "## Lable the Graphs"
   ]
  },
  {
   "cell_type": "code",
   "execution_count": null,
   "metadata": {},
   "outputs": [],
   "source": [
    "import torch\n",
    "import os\n",
    "\n",
    "def label_graphs_in_folder(input_folder, label):\n",
    "    \"\"\"\n",
    "    Loads all .pt files in a folder, assigns a label, and saves them.\n",
    "    \n",
    "    Parameters:\n",
    "    - input_folder: str, path to the folder containing .pt files.\n",
    "    - label: int, label to assign to each graph.\n",
    "    \"\"\"\n",
    "    for file_name in os.listdir(input_folder):\n",
    "        if file_name.endswith(\".pt\"):\n",
    "            file_path = os.path.join(input_folder, file_name)\n",
    "            try:\n",
    "                # Load the graph data\n",
    "                data = torch.load(file_path)\n",
    "                \n",
    "                # Assign the label\n",
    "                data.y = torch.tensor([label], dtype=torch.long)\n",
    "                \n",
    "                # Save the labeled graph back to the file\n",
    "                torch.save(data, file_path)\n",
    "                print(f\"Labeled and saved: {file_path}\")\n",
    "\n",
    "            except Exception as e:\n",
    "                print(f\"Error processing file {file_path}: {e}\")\n",
    "\n",
    "# Folder paths\n",
    "folders = {\n",
    "    \"Benign\": \"/home/belief/Desktop/MalwareDetection/Graphs/Benign\",  # Replace with actual path\n",
    "    \"Adware\": \"/home/belief/Desktop/MalwareDetection/Graphs/Adware\",\n",
    "    \"Bankingware\": \"/home/belief/Desktop/MalwareDetection/Graphs/Banking\",\n",
    "    \"Riskware\": \"/home/belief/Desktop/MalwareDetection/Graphs/Riskware\",\n",
    "    \"SMSware\": \"/home/belief/Desktop/MalwareDetection/Graphs/Smsware\"\n",
    "}\n",
    "\n",
    "# Labels for each folder\n",
    "labels = {\n",
    "    \"Benign\": 0,\n",
    "    \"Adware\": 1,\n",
    "    \"Bankingware\": 2,\n",
    "    \"Riskware\": 3,\n",
    "    \"SMSware\": 4\n",
    "}\n",
    "\n",
    "# Apply labeling\n",
    "for folder_name, folder_path in folders.items():\n",
    "    label = labels[folder_name]\n",
    "    label_graphs_in_folder(folder_path, label)\n"
   ]
  },
  {
   "cell_type": "markdown",
   "metadata": {},
   "source": [
    "Check The Label"
   ]
  },
  {
   "cell_type": "code",
   "execution_count": null,
   "metadata": {},
   "outputs": [],
   "source": [
    "import torch\n",
    "\n",
    "# Load a labeled graph to check\n",
    "file_path = \"/workspace/Graphs/Riskware/0A2E7573DB79F20A5E73B8E9B3BD599A656C65C4D3F33F388E32D56B017EB4C6.pt\"  # replace with a sample path\n",
    "data = torch.load(file_path)\n",
    "\n",
    "# Check the label\n",
    "print(\"Label:\", data.y.item())\n"
   ]
  }
 ],
 "metadata": {
  "kernelspec": {
   "display_name": "py_3.10",
   "language": "python",
   "name": "python3"
  },
  "language_info": {
   "codemirror_mode": {
    "name": "ipython",
    "version": 3
   },
   "file_extension": ".py",
   "mimetype": "text/x-python",
   "name": "python",
   "nbconvert_exporter": "python",
   "pygments_lexer": "ipython3",
   "version": "3.10.15"
  }
 },
 "nbformat": 4,
 "nbformat_minor": 2
}
